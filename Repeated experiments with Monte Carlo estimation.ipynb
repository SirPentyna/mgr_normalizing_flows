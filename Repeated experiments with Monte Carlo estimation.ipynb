{
 "cells": [
  {
   "attachments": {},
   "cell_type": "markdown",
   "metadata": {},
   "source": [
    "# Repeated experiments with Monte Carlo estimation"
   ]
  },
  {
   "cell_type": "code",
   "execution_count": 1,
   "metadata": {},
   "outputs": [],
   "source": [
    "import matplotlib.pyplot as plt\n",
    "from utils import *\n",
    "\n",
    "torch.manual_seed(0)\n",
    "import random\n",
    "random.seed(0)\n",
    "import numpy as np\n",
    "np.random.seed(0)"
   ]
  },
  {
   "cell_type": "code",
   "execution_count": 2,
   "metadata": {},
   "outputs": [
    {
     "name": "stderr",
     "output_type": "stream",
     "text": [
      "c:\\Users\\Sacia\\AppData\\Local\\Programs\\Python\\Python39\\lib\\site-packages\\torch\\functional.py:504: UserWarning: torch.meshgrid: in an upcoming release, it will be required to pass the indexing argument. (Triggered internally at C:\\actions-runner\\_work\\pytorch\\pytorch\\builder\\windows\\pytorch\\aten\\src\\ATen\\native\\TensorShape.cpp:3191.)\n",
      "  return _VF.meshgrid(tensors, **kwargs)  # type: ignore[attr-defined]\n",
      "  5%|▌         | 50/1000 [47:08<14:35:40, 55.31s/it]"
     ]
    },
    {
     "name": "stdout",
     "output_type": "stream",
     "text": [
      "Saved df with 50 experiments!\n"
     ]
    },
    {
     "name": "stderr",
     "output_type": "stream",
     "text": [
      " 10%|█         | 100/1000 [1:34:43<14:15:58, 57.06s/it]"
     ]
    },
    {
     "name": "stdout",
     "output_type": "stream",
     "text": [
      "Saved df with 100 experiments!\n"
     ]
    },
    {
     "name": "stderr",
     "output_type": "stream",
     "text": [
      " 15%|█▌        | 150/1000 [2:19:26<12:42:02, 53.79s/it]"
     ]
    },
    {
     "name": "stdout",
     "output_type": "stream",
     "text": [
      "Saved df with 150 experiments!\n"
     ]
    },
    {
     "name": "stderr",
     "output_type": "stream",
     "text": [
      " 20%|██        | 200/1000 [3:53:50<12:35:41, 56.68s/it]  "
     ]
    },
    {
     "name": "stdout",
     "output_type": "stream",
     "text": [
      "Saved df with 200 experiments!\n"
     ]
    },
    {
     "name": "stderr",
     "output_type": "stream",
     "text": [
      " 25%|██▌       | 250/1000 [6:33:46<11:45:09, 56.41s/it]   "
     ]
    },
    {
     "name": "stdout",
     "output_type": "stream",
     "text": [
      "Saved df with 250 experiments!\n"
     ]
    },
    {
     "name": "stderr",
     "output_type": "stream",
     "text": [
      " 30%|███       | 300/1000 [7:36:25<11:17:30, 58.07s/it] "
     ]
    },
    {
     "name": "stdout",
     "output_type": "stream",
     "text": [
      "Saved df with 300 experiments!\n"
     ]
    },
    {
     "name": "stderr",
     "output_type": "stream",
     "text": [
      " 35%|███▌      | 350/1000 [8:25:01<10:25:44, 57.76s/it]"
     ]
    },
    {
     "name": "stdout",
     "output_type": "stream",
     "text": [
      "Saved df with 350 experiments!\n"
     ]
    },
    {
     "name": "stderr",
     "output_type": "stream",
     "text": [
      " 40%|████      | 400/1000 [9:12:51<9:52:54, 59.29s/it] "
     ]
    },
    {
     "name": "stdout",
     "output_type": "stream",
     "text": [
      "Saved df with 400 experiments!\n"
     ]
    },
    {
     "name": "stderr",
     "output_type": "stream",
     "text": [
      " 45%|████▌     | 450/1000 [10:00:10<8:20:51, 54.64s/it]"
     ]
    },
    {
     "name": "stdout",
     "output_type": "stream",
     "text": [
      "Saved df with 450 experiments!\n"
     ]
    },
    {
     "name": "stderr",
     "output_type": "stream",
     "text": [
      " 50%|█████     | 500/1000 [12:46:35<7:29:42, 53.97s/it]    "
     ]
    },
    {
     "name": "stdout",
     "output_type": "stream",
     "text": [
      "Saved df with 500 experiments!\n"
     ]
    },
    {
     "name": "stderr",
     "output_type": "stream",
     "text": [
      " 55%|█████▌    | 550/1000 [14:11:20<7:51:55, 62.92s/it]  "
     ]
    },
    {
     "name": "stdout",
     "output_type": "stream",
     "text": [
      "Saved df with 550 experiments!\n"
     ]
    },
    {
     "name": "stderr",
     "output_type": "stream",
     "text": [
      " 60%|██████    | 600/1000 [15:06:43<9:25:10, 84.78s/it] "
     ]
    },
    {
     "name": "stdout",
     "output_type": "stream",
     "text": [
      "Saved df with 600 experiments!\n"
     ]
    },
    {
     "name": "stderr",
     "output_type": "stream",
     "text": [
      " 65%|██████▌   | 650/1000 [15:54:41<4:57:43, 51.04s/it]"
     ]
    },
    {
     "name": "stdout",
     "output_type": "stream",
     "text": [
      "Saved df with 650 experiments!\n"
     ]
    },
    {
     "name": "stderr",
     "output_type": "stream",
     "text": [
      " 70%|███████   | 700/1000 [16:42:00<4:38:16, 55.66s/it]"
     ]
    },
    {
     "name": "stdout",
     "output_type": "stream",
     "text": [
      "Saved df with 700 experiments!\n"
     ]
    },
    {
     "name": "stderr",
     "output_type": "stream",
     "text": [
      " 75%|███████▌  | 750/1000 [24:19:40<3:52:12, 55.73s/it]    "
     ]
    },
    {
     "name": "stdout",
     "output_type": "stream",
     "text": [
      "Saved df with 750 experiments!\n"
     ]
    },
    {
     "name": "stderr",
     "output_type": "stream",
     "text": [
      " 80%|████████  | 800/1000 [25:05:25<3:03:52, 55.16s/it]"
     ]
    },
    {
     "name": "stdout",
     "output_type": "stream",
     "text": [
      "Saved df with 800 experiments!\n"
     ]
    },
    {
     "name": "stderr",
     "output_type": "stream",
     "text": [
      " 85%|████████▌ | 850/1000 [27:38:40<3:04:57, 73.98s/it]   "
     ]
    },
    {
     "name": "stdout",
     "output_type": "stream",
     "text": [
      "Saved df with 850 experiments!\n"
     ]
    },
    {
     "name": "stderr",
     "output_type": "stream",
     "text": [
      " 90%|█████████ | 900/1000 [29:16:23<1:47:39, 64.59s/it]  "
     ]
    },
    {
     "name": "stdout",
     "output_type": "stream",
     "text": [
      "Saved df with 900 experiments!\n"
     ]
    },
    {
     "name": "stderr",
     "output_type": "stream",
     "text": [
      " 95%|█████████▌| 950/1000 [30:01:57<44:29, 53.38s/it]  "
     ]
    },
    {
     "name": "stdout",
     "output_type": "stream",
     "text": [
      "Saved df with 950 experiments!\n"
     ]
    },
    {
     "name": "stderr",
     "output_type": "stream",
     "text": [
      "100%|██████████| 1000/1000 [32:07:11<00:00, 115.63s/it]  "
     ]
    },
    {
     "name": "stdout",
     "output_type": "stream",
     "text": [
      "Saved df with 1000 experiments!\n"
     ]
    },
    {
     "name": "stderr",
     "output_type": "stream",
     "text": [
      "\n"
     ]
    }
   ],
   "source": [
    "num_experiments = 1000\n",
    "\n",
    "\n",
    "# Parameters\n",
    "prob_delta = 0.5\n",
    "num_segments = 6\n",
    "max_iter = 2000\n",
    "num_samples = 2048\n",
    "dims_dense =[1, 16, 64, 16, 1]\n",
    "\n",
    "list_of_dfs = []\n",
    "\n",
    "#Distribution\n",
    "\n",
    "K_intervals = torch.Tensor([[0.5, 1],\n",
    "                        [3,3]])\n",
    "nu = NormUnif(x_dim = 2, prob_delta=prob_delta, K_intervals=K_intervals)\n",
    "\n",
    "middle_point = [0,0]\n",
    "range_p = [5, 5]\n",
    "\n",
    "grid_size = 200\n",
    "xx, yy = torch.meshgrid(torch.linspace((middle_point[0]-range_p[0]), (middle_point[0]+range_p[0]), grid_size), torch.linspace((middle_point[1]-range_p[1]), (middle_point[1]+range_p[1]), grid_size))\n",
    "zz = torch.cat([xx.unsqueeze(2), yy.unsqueeze(2)], 2).view(-1, 2)\n",
    "import pandas as pd\n",
    "\n",
    "\n",
    "\n",
    "    \n",
    "for run_id in tqdm(range(num_experiments)):\n",
    "    # Creating model\n",
    "    base = nf.distributions.base.DiagGaussian(2)\n",
    "    flows = []\n",
    "    for i in range(num_segments):\n",
    "        flows += [AffineSingleBlock(SimpleDenseCustDim(dims_dense))]\n",
    "        flows += [Swap()]\n",
    "\n",
    "    flows += [ScalingBlock(dim_x = 2)]\n",
    "    model = MyNormFlow(q0 = base, flows = flows)\n",
    "\n",
    "    show_iter = int(max_iter/8)\n",
    "\n",
    "    optimizer = torch.optim.Adam(model.parameters(), lr=5e-4, weight_decay=1e-5)\n",
    "\n",
    "    # Get training samples\n",
    "    x_np = nu.forward(num_samples)[0].numpy()\n",
    "    x = torch.tensor(x_np).float()\n",
    "\n",
    "    # Training loop\n",
    "    for it in range(max_iter):\n",
    "        optimizer.zero_grad()\n",
    "        \n",
    "        # Compute loss\n",
    "        loss = model.forward_kld(x)\n",
    "        \n",
    "        # Do backprop and optimizer step\n",
    "        if ~(torch.isnan(loss) | torch.isinf(loss)):\n",
    "            loss.backward()\n",
    "            optimizer.step()\n",
    "        \n",
    "    \n",
    "\n",
    "    \n",
    "    t_array = np.arange(0, 3.01, 0.1)\n",
    "    true_probs = []\n",
    "    probs_x_np = []\n",
    "    cmc_2048 = []\n",
    "    cmc_4096 = []\n",
    "    cmc_10000 = []\n",
    "\n",
    "    # Calculating true value of P(X>t)\n",
    "    for t_float in t_array:\n",
    "        t = torch.tensor(t_float)\n",
    "        true_probs.append(nu.prob_greater_t(t).item())\n",
    "        probs_x_np.append(calc_prob_greater_t(samples_np=x_np, t_float=t_float))\n",
    "\n",
    "    dict_estims = {'t':t_array, 'true_probs':true_probs, 'probs_x_np':probs_x_np}\n",
    "\n",
    "    for nums_s in [2048, 4096, 10000]:\n",
    "        cmc_list = []\n",
    "        strat_list = []\n",
    "        for t_float in t_array:\n",
    "            cmc_list.append(estim_prob_greater_t(model, R = nums_s, t_float=t_float))\n",
    "            samples_strat = generate_samples_from_model_stratified(model, 20000, m=4, n = 2,verbose=False)['samples']\n",
    "            strat_list.append(calc_prob_greater_t(samples_np=samples_strat, t_float=t_float))\n",
    "        \n",
    "        dict_estims[f'cmc_{nums_s}'] = cmc_list.copy()\n",
    "        dict_estims[f'strat_{nums_s}'] = strat_list.copy()\n",
    "\n",
    "    estim_df = pd.DataFrame(dict_estims)\n",
    "    estim_df['run_id'] = run_id\n",
    "    list_of_dfs.append(estim_df)\n",
    "    if (run_id + 1)%50 == 0:\n",
    "        main_df = pd.concat(list_of_dfs)\n",
    "        main_df.to_csv('MC_NICE_experiments.csv')\n",
    "        print(f\"Saved df with {run_id+1} experiments!\")"
   ]
  },
  {
   "cell_type": "code",
   "execution_count": 10,
   "metadata": {},
   "outputs": [
    {
     "data": {
      "text/plain": [
       "(31000, 10)"
      ]
     },
     "execution_count": 10,
     "metadata": {},
     "output_type": "execute_result"
    }
   ],
   "source": [
    "main_df = pd.concat(list_of_dfs)\n",
    "main_df.shape"
   ]
  },
  {
   "cell_type": "code",
   "execution_count": 4,
   "metadata": {},
   "outputs": [],
   "source": [
    "main_df.to_csv('MC_NICE_experiments.csv')"
   ]
  },
  {
   "cell_type": "code",
   "execution_count": 11,
   "metadata": {},
   "outputs": [
    {
     "data": {
      "text/html": [
       "<div>\n",
       "<style scoped>\n",
       "    .dataframe tbody tr th:only-of-type {\n",
       "        vertical-align: middle;\n",
       "    }\n",
       "\n",
       "    .dataframe tbody tr th {\n",
       "        vertical-align: top;\n",
       "    }\n",
       "\n",
       "    .dataframe thead th {\n",
       "        text-align: right;\n",
       "    }\n",
       "</style>\n",
       "<table border=\"1\" class=\"dataframe\">\n",
       "  <thead>\n",
       "    <tr style=\"text-align: right;\">\n",
       "      <th></th>\n",
       "      <th>t</th>\n",
       "      <th>true_probs</th>\n",
       "      <th>probs_x_np</th>\n",
       "      <th>cmc_2048</th>\n",
       "      <th>strat_2048</th>\n",
       "      <th>cmc_4096</th>\n",
       "      <th>strat_4096</th>\n",
       "      <th>cmc_10000</th>\n",
       "      <th>strat_10000</th>\n",
       "      <th>run_id</th>\n",
       "    </tr>\n",
       "  </thead>\n",
       "  <tbody>\n",
       "    <tr>\n",
       "      <th>26</th>\n",
       "      <td>2.6</td>\n",
       "      <td>1.601087e-02</td>\n",
       "      <td>0.014160</td>\n",
       "      <td>0.014648</td>\n",
       "      <td>0.01140</td>\n",
       "      <td>0.011475</td>\n",
       "      <td>0.01365</td>\n",
       "      <td>0.0104</td>\n",
       "      <td>0.01035</td>\n",
       "      <td>999</td>\n",
       "    </tr>\n",
       "    <tr>\n",
       "      <th>27</th>\n",
       "      <td>2.7</td>\n",
       "      <td>9.006008e-03</td>\n",
       "      <td>0.009277</td>\n",
       "      <td>0.007812</td>\n",
       "      <td>0.00655</td>\n",
       "      <td>0.007568</td>\n",
       "      <td>0.00740</td>\n",
       "      <td>0.0060</td>\n",
       "      <td>0.00685</td>\n",
       "      <td>999</td>\n",
       "    </tr>\n",
       "    <tr>\n",
       "      <th>28</th>\n",
       "      <td>2.8</td>\n",
       "      <td>4.003266e-03</td>\n",
       "      <td>0.003906</td>\n",
       "      <td>0.002930</td>\n",
       "      <td>0.00350</td>\n",
       "      <td>0.003906</td>\n",
       "      <td>0.00355</td>\n",
       "      <td>0.0033</td>\n",
       "      <td>0.00345</td>\n",
       "      <td>999</td>\n",
       "    </tr>\n",
       "    <tr>\n",
       "      <th>29</th>\n",
       "      <td>2.9</td>\n",
       "      <td>1.001739e-03</td>\n",
       "      <td>0.001465</td>\n",
       "      <td>0.000977</td>\n",
       "      <td>0.00135</td>\n",
       "      <td>0.000732</td>\n",
       "      <td>0.00140</td>\n",
       "      <td>0.0015</td>\n",
       "      <td>0.00085</td>\n",
       "      <td>999</td>\n",
       "    </tr>\n",
       "    <tr>\n",
       "      <th>30</th>\n",
       "      <td>3.0</td>\n",
       "      <td>9.111501e-07</td>\n",
       "      <td>0.000000</td>\n",
       "      <td>0.000488</td>\n",
       "      <td>0.00050</td>\n",
       "      <td>0.000488</td>\n",
       "      <td>0.00050</td>\n",
       "      <td>0.0005</td>\n",
       "      <td>0.00025</td>\n",
       "      <td>999</td>\n",
       "    </tr>\n",
       "  </tbody>\n",
       "</table>\n",
       "</div>"
      ],
      "text/plain": [
       "      t    true_probs  probs_x_np  cmc_2048  strat_2048  cmc_4096  strat_4096  \\\n",
       "26  2.6  1.601087e-02    0.014160  0.014648     0.01140  0.011475     0.01365   \n",
       "27  2.7  9.006008e-03    0.009277  0.007812     0.00655  0.007568     0.00740   \n",
       "28  2.8  4.003266e-03    0.003906  0.002930     0.00350  0.003906     0.00355   \n",
       "29  2.9  1.001739e-03    0.001465  0.000977     0.00135  0.000732     0.00140   \n",
       "30  3.0  9.111501e-07    0.000000  0.000488     0.00050  0.000488     0.00050   \n",
       "\n",
       "    cmc_10000  strat_10000  run_id  \n",
       "26     0.0104      0.01035     999  \n",
       "27     0.0060      0.00685     999  \n",
       "28     0.0033      0.00345     999  \n",
       "29     0.0015      0.00085     999  \n",
       "30     0.0005      0.00025     999  "
      ]
     },
     "execution_count": 11,
     "metadata": {},
     "output_type": "execute_result"
    }
   ],
   "source": [
    "main_df.tail()"
   ]
  },
  {
   "cell_type": "code",
   "execution_count": 6,
   "metadata": {},
   "outputs": [],
   "source": [
    "means_df = main_df.groupby('t').apply('mean')"
   ]
  },
  {
   "cell_type": "code",
   "execution_count": 7,
   "metadata": {},
   "outputs": [
    {
     "data": {
      "text/html": [
       "<div>\n",
       "<style scoped>\n",
       "    .dataframe tbody tr th:only-of-type {\n",
       "        vertical-align: middle;\n",
       "    }\n",
       "\n",
       "    .dataframe tbody tr th {\n",
       "        vertical-align: top;\n",
       "    }\n",
       "\n",
       "    .dataframe thead th {\n",
       "        text-align: right;\n",
       "    }\n",
       "</style>\n",
       "<table border=\"1\" class=\"dataframe\">\n",
       "  <thead>\n",
       "    <tr style=\"text-align: right;\">\n",
       "      <th></th>\n",
       "      <th>probs_x_np</th>\n",
       "      <th>cmc_2048</th>\n",
       "      <th>strat_2048</th>\n",
       "      <th>cmc_4096</th>\n",
       "      <th>strat_4096</th>\n",
       "      <th>cmc_10000</th>\n",
       "      <th>strat_10000</th>\n",
       "    </tr>\n",
       "    <tr>\n",
       "      <th>t</th>\n",
       "      <th></th>\n",
       "      <th></th>\n",
       "      <th></th>\n",
       "      <th></th>\n",
       "      <th></th>\n",
       "      <th></th>\n",
       "      <th></th>\n",
       "    </tr>\n",
       "  </thead>\n",
       "  <tbody>\n",
       "    <tr>\n",
       "      <th>0.0</th>\n",
       "      <td>-4.165039e-04</td>\n",
       "      <td>0.000250</td>\n",
       "      <td>0.003335</td>\n",
       "      <td>0.000079</td>\n",
       "      <td>0.003473</td>\n",
       "      <td>0.000143</td>\n",
       "      <td>0.003103</td>\n",
       "    </tr>\n",
       "    <tr>\n",
       "      <th>0.1</th>\n",
       "      <td>-4.519415e-04</td>\n",
       "      <td>0.000522</td>\n",
       "      <td>0.003102</td>\n",
       "      <td>0.000105</td>\n",
       "      <td>0.002987</td>\n",
       "      <td>-0.000055</td>\n",
       "      <td>0.003122</td>\n",
       "    </tr>\n",
       "    <tr>\n",
       "      <th>0.2</th>\n",
       "      <td>-5.073223e-04</td>\n",
       "      <td>-0.000291</td>\n",
       "      <td>0.002821</td>\n",
       "      <td>-0.000516</td>\n",
       "      <td>0.002865</td>\n",
       "      <td>-0.000283</td>\n",
       "      <td>0.002820</td>\n",
       "    </tr>\n",
       "    <tr>\n",
       "      <th>0.3</th>\n",
       "      <td>-5.344157e-04</td>\n",
       "      <td>-0.001027</td>\n",
       "      <td>0.001925</td>\n",
       "      <td>-0.000989</td>\n",
       "      <td>0.001860</td>\n",
       "      <td>-0.000983</td>\n",
       "      <td>0.001842</td>\n",
       "    </tr>\n",
       "    <tr>\n",
       "      <th>0.4</th>\n",
       "      <td>-5.496778e-04</td>\n",
       "      <td>-0.003396</td>\n",
       "      <td>0.000136</td>\n",
       "      <td>-0.003114</td>\n",
       "      <td>0.000078</td>\n",
       "      <td>-0.003226</td>\n",
       "      <td>-0.000029</td>\n",
       "    </tr>\n",
       "    <tr>\n",
       "      <th>0.5</th>\n",
       "      <td>-4.316907e-04</td>\n",
       "      <td>-0.006483</td>\n",
       "      <td>-0.004357</td>\n",
       "      <td>-0.007583</td>\n",
       "      <td>-0.004583</td>\n",
       "      <td>-0.007393</td>\n",
       "      <td>-0.004400</td>\n",
       "    </tr>\n",
       "    <tr>\n",
       "      <th>0.6</th>\n",
       "      <td>-3.969417e-04</td>\n",
       "      <td>0.001367</td>\n",
       "      <td>0.004564</td>\n",
       "      <td>0.001629</td>\n",
       "      <td>0.004480</td>\n",
       "      <td>0.001368</td>\n",
       "      <td>0.004339</td>\n",
       "    </tr>\n",
       "    <tr>\n",
       "      <th>0.7</th>\n",
       "      <td>-4.514132e-04</td>\n",
       "      <td>0.006698</td>\n",
       "      <td>0.009908</td>\n",
       "      <td>0.007202</td>\n",
       "      <td>0.009976</td>\n",
       "      <td>0.007110</td>\n",
       "      <td>0.009706</td>\n",
       "    </tr>\n",
       "    <tr>\n",
       "      <th>0.8</th>\n",
       "      <td>-3.954566e-04</td>\n",
       "      <td>0.010358</td>\n",
       "      <td>0.013186</td>\n",
       "      <td>0.010405</td>\n",
       "      <td>0.013136</td>\n",
       "      <td>0.010291</td>\n",
       "      <td>0.013152</td>\n",
       "    </tr>\n",
       "    <tr>\n",
       "      <th>0.9</th>\n",
       "      <td>-3.536115e-04</td>\n",
       "      <td>0.011424</td>\n",
       "      <td>0.014610</td>\n",
       "      <td>0.011227</td>\n",
       "      <td>0.014290</td>\n",
       "      <td>0.011944</td>\n",
       "      <td>0.014356</td>\n",
       "    </tr>\n",
       "    <tr>\n",
       "      <th>1.0</th>\n",
       "      <td>-3.333237e-04</td>\n",
       "      <td>0.009933</td>\n",
       "      <td>0.012699</td>\n",
       "      <td>0.009976</td>\n",
       "      <td>0.012700</td>\n",
       "      <td>0.009975</td>\n",
       "      <td>0.012723</td>\n",
       "    </tr>\n",
       "    <tr>\n",
       "      <th>1.1</th>\n",
       "      <td>-1.586854e-04</td>\n",
       "      <td>0.021453</td>\n",
       "      <td>0.023618</td>\n",
       "      <td>0.020631</td>\n",
       "      <td>0.023783</td>\n",
       "      <td>0.020937</td>\n",
       "      <td>0.023757</td>\n",
       "    </tr>\n",
       "    <tr>\n",
       "      <th>1.2</th>\n",
       "      <td>-2.068934e-04</td>\n",
       "      <td>0.025786</td>\n",
       "      <td>0.029082</td>\n",
       "      <td>0.025759</td>\n",
       "      <td>0.029088</td>\n",
       "      <td>0.026014</td>\n",
       "      <td>0.029013</td>\n",
       "    </tr>\n",
       "    <tr>\n",
       "      <th>1.3</th>\n",
       "      <td>-1.861446e-04</td>\n",
       "      <td>0.029031</td>\n",
       "      <td>0.031254</td>\n",
       "      <td>0.027721</td>\n",
       "      <td>0.031020</td>\n",
       "      <td>0.027762</td>\n",
       "      <td>0.031051</td>\n",
       "    </tr>\n",
       "    <tr>\n",
       "      <th>1.4</th>\n",
       "      <td>-3.475904e-05</td>\n",
       "      <td>0.027855</td>\n",
       "      <td>0.031042</td>\n",
       "      <td>0.027829</td>\n",
       "      <td>0.030923</td>\n",
       "      <td>0.027908</td>\n",
       "      <td>0.031055</td>\n",
       "    </tr>\n",
       "    <tr>\n",
       "      <th>1.5</th>\n",
       "      <td>-2.608888e-04</td>\n",
       "      <td>0.026330</td>\n",
       "      <td>0.029238</td>\n",
       "      <td>0.026238</td>\n",
       "      <td>0.029338</td>\n",
       "      <td>0.026344</td>\n",
       "      <td>0.029322</td>\n",
       "    </tr>\n",
       "    <tr>\n",
       "      <th>1.6</th>\n",
       "      <td>-1.782384e-04</td>\n",
       "      <td>0.024077</td>\n",
       "      <td>0.026566</td>\n",
       "      <td>0.023549</td>\n",
       "      <td>0.026491</td>\n",
       "      <td>0.024003</td>\n",
       "      <td>0.026585</td>\n",
       "    </tr>\n",
       "    <tr>\n",
       "      <th>1.7</th>\n",
       "      <td>4.798758e-05</td>\n",
       "      <td>0.020327</td>\n",
       "      <td>0.023112</td>\n",
       "      <td>0.020525</td>\n",
       "      <td>0.023072</td>\n",
       "      <td>0.020634</td>\n",
       "      <td>0.023068</td>\n",
       "    </tr>\n",
       "    <tr>\n",
       "      <th>1.8</th>\n",
       "      <td>4.053795e-05</td>\n",
       "      <td>0.016597</td>\n",
       "      <td>0.019111</td>\n",
       "      <td>0.017055</td>\n",
       "      <td>0.019282</td>\n",
       "      <td>0.017049</td>\n",
       "      <td>0.019294</td>\n",
       "    </tr>\n",
       "    <tr>\n",
       "      <th>1.9</th>\n",
       "      <td>1.350339e-04</td>\n",
       "      <td>0.013411</td>\n",
       "      <td>0.015056</td>\n",
       "      <td>0.013177</td>\n",
       "      <td>0.015069</td>\n",
       "      <td>0.013107</td>\n",
       "      <td>0.015043</td>\n",
       "    </tr>\n",
       "    <tr>\n",
       "      <th>2.0</th>\n",
       "      <td>1.572331e-04</td>\n",
       "      <td>0.009209</td>\n",
       "      <td>0.011114</td>\n",
       "      <td>0.009160</td>\n",
       "      <td>0.011116</td>\n",
       "      <td>0.009412</td>\n",
       "      <td>0.010986</td>\n",
       "    </tr>\n",
       "    <tr>\n",
       "      <th>2.1</th>\n",
       "      <td>4.061109e-05</td>\n",
       "      <td>0.005779</td>\n",
       "      <td>0.007462</td>\n",
       "      <td>0.006000</td>\n",
       "      <td>0.007239</td>\n",
       "      <td>0.005846</td>\n",
       "      <td>0.007336</td>\n",
       "    </tr>\n",
       "    <tr>\n",
       "      <th>2.2</th>\n",
       "      <td>7.131678e-05</td>\n",
       "      <td>0.003075</td>\n",
       "      <td>0.004298</td>\n",
       "      <td>0.002826</td>\n",
       "      <td>0.004314</td>\n",
       "      <td>0.003020</td>\n",
       "      <td>0.004201</td>\n",
       "    </tr>\n",
       "    <tr>\n",
       "      <th>2.3</th>\n",
       "      <td>1.426856e-04</td>\n",
       "      <td>0.000710</td>\n",
       "      <td>0.001757</td>\n",
       "      <td>0.000630</td>\n",
       "      <td>0.001735</td>\n",
       "      <td>0.000643</td>\n",
       "      <td>0.001681</td>\n",
       "    </tr>\n",
       "    <tr>\n",
       "      <th>2.4</th>\n",
       "      <td>-3.944877e-05</td>\n",
       "      <td>-0.000982</td>\n",
       "      <td>-0.000155</td>\n",
       "      <td>-0.001029</td>\n",
       "      <td>-0.000095</td>\n",
       "      <td>-0.001073</td>\n",
       "      <td>-0.000019</td>\n",
       "    </tr>\n",
       "    <tr>\n",
       "      <th>2.5</th>\n",
       "      <td>-1.000327e-05</td>\n",
       "      <td>-0.001827</td>\n",
       "      <td>-0.001039</td>\n",
       "      <td>-0.001882</td>\n",
       "      <td>-0.001043</td>\n",
       "      <td>-0.001753</td>\n",
       "      <td>-0.001025</td>\n",
       "    </tr>\n",
       "    <tr>\n",
       "      <th>2.6</th>\n",
       "      <td>-1.721695e-05</td>\n",
       "      <td>-0.002019</td>\n",
       "      <td>-0.001363</td>\n",
       "      <td>-0.002036</td>\n",
       "      <td>-0.001389</td>\n",
       "      <td>-0.002000</td>\n",
       "      <td>-0.001357</td>\n",
       "    </tr>\n",
       "    <tr>\n",
       "      <th>2.7</th>\n",
       "      <td>4.379711e-05</td>\n",
       "      <td>-0.001601</td>\n",
       "      <td>-0.001060</td>\n",
       "      <td>-0.001478</td>\n",
       "      <td>-0.001091</td>\n",
       "      <td>-0.001533</td>\n",
       "      <td>-0.001113</td>\n",
       "    </tr>\n",
       "    <tr>\n",
       "      <th>2.8</th>\n",
       "      <td>2.163647e-05</td>\n",
       "      <td>-0.000732</td>\n",
       "      <td>-0.000432</td>\n",
       "      <td>-0.000714</td>\n",
       "      <td>-0.000458</td>\n",
       "      <td>-0.000777</td>\n",
       "      <td>-0.000450</td>\n",
       "    </tr>\n",
       "    <tr>\n",
       "      <th>2.9</th>\n",
       "      <td>1.925738e-05</td>\n",
       "      <td>0.000092</td>\n",
       "      <td>0.000251</td>\n",
       "      <td>0.000075</td>\n",
       "      <td>0.000240</td>\n",
       "      <td>0.000059</td>\n",
       "      <td>0.000232</td>\n",
       "    </tr>\n",
       "    <tr>\n",
       "      <th>3.0</th>\n",
       "      <td>6.541240e-08</td>\n",
       "      <td>0.000326</td>\n",
       "      <td>0.000402</td>\n",
       "      <td>0.000320</td>\n",
       "      <td>0.000400</td>\n",
       "      <td>0.000309</td>\n",
       "      <td>0.000400</td>\n",
       "    </tr>\n",
       "  </tbody>\n",
       "</table>\n",
       "</div>"
      ],
      "text/plain": [
       "       probs_x_np  cmc_2048  strat_2048  cmc_4096  strat_4096  cmc_10000  \\\n",
       "t                                                                          \n",
       "0.0 -4.165039e-04  0.000250    0.003335  0.000079    0.003473   0.000143   \n",
       "0.1 -4.519415e-04  0.000522    0.003102  0.000105    0.002987  -0.000055   \n",
       "0.2 -5.073223e-04 -0.000291    0.002821 -0.000516    0.002865  -0.000283   \n",
       "0.3 -5.344157e-04 -0.001027    0.001925 -0.000989    0.001860  -0.000983   \n",
       "0.4 -5.496778e-04 -0.003396    0.000136 -0.003114    0.000078  -0.003226   \n",
       "0.5 -4.316907e-04 -0.006483   -0.004357 -0.007583   -0.004583  -0.007393   \n",
       "0.6 -3.969417e-04  0.001367    0.004564  0.001629    0.004480   0.001368   \n",
       "0.7 -4.514132e-04  0.006698    0.009908  0.007202    0.009976   0.007110   \n",
       "0.8 -3.954566e-04  0.010358    0.013186  0.010405    0.013136   0.010291   \n",
       "0.9 -3.536115e-04  0.011424    0.014610  0.011227    0.014290   0.011944   \n",
       "1.0 -3.333237e-04  0.009933    0.012699  0.009976    0.012700   0.009975   \n",
       "1.1 -1.586854e-04  0.021453    0.023618  0.020631    0.023783   0.020937   \n",
       "1.2 -2.068934e-04  0.025786    0.029082  0.025759    0.029088   0.026014   \n",
       "1.3 -1.861446e-04  0.029031    0.031254  0.027721    0.031020   0.027762   \n",
       "1.4 -3.475904e-05  0.027855    0.031042  0.027829    0.030923   0.027908   \n",
       "1.5 -2.608888e-04  0.026330    0.029238  0.026238    0.029338   0.026344   \n",
       "1.6 -1.782384e-04  0.024077    0.026566  0.023549    0.026491   0.024003   \n",
       "1.7  4.798758e-05  0.020327    0.023112  0.020525    0.023072   0.020634   \n",
       "1.8  4.053795e-05  0.016597    0.019111  0.017055    0.019282   0.017049   \n",
       "1.9  1.350339e-04  0.013411    0.015056  0.013177    0.015069   0.013107   \n",
       "2.0  1.572331e-04  0.009209    0.011114  0.009160    0.011116   0.009412   \n",
       "2.1  4.061109e-05  0.005779    0.007462  0.006000    0.007239   0.005846   \n",
       "2.2  7.131678e-05  0.003075    0.004298  0.002826    0.004314   0.003020   \n",
       "2.3  1.426856e-04  0.000710    0.001757  0.000630    0.001735   0.000643   \n",
       "2.4 -3.944877e-05 -0.000982   -0.000155 -0.001029   -0.000095  -0.001073   \n",
       "2.5 -1.000327e-05 -0.001827   -0.001039 -0.001882   -0.001043  -0.001753   \n",
       "2.6 -1.721695e-05 -0.002019   -0.001363 -0.002036   -0.001389  -0.002000   \n",
       "2.7  4.379711e-05 -0.001601   -0.001060 -0.001478   -0.001091  -0.001533   \n",
       "2.8  2.163647e-05 -0.000732   -0.000432 -0.000714   -0.000458  -0.000777   \n",
       "2.9  1.925738e-05  0.000092    0.000251  0.000075    0.000240   0.000059   \n",
       "3.0  6.541240e-08  0.000326    0.000402  0.000320    0.000400   0.000309   \n",
       "\n",
       "     strat_10000  \n",
       "t                 \n",
       "0.0     0.003103  \n",
       "0.1     0.003122  \n",
       "0.2     0.002820  \n",
       "0.3     0.001842  \n",
       "0.4    -0.000029  \n",
       "0.5    -0.004400  \n",
       "0.6     0.004339  \n",
       "0.7     0.009706  \n",
       "0.8     0.013152  \n",
       "0.9     0.014356  \n",
       "1.0     0.012723  \n",
       "1.1     0.023757  \n",
       "1.2     0.029013  \n",
       "1.3     0.031051  \n",
       "1.4     0.031055  \n",
       "1.5     0.029322  \n",
       "1.6     0.026585  \n",
       "1.7     0.023068  \n",
       "1.8     0.019294  \n",
       "1.9     0.015043  \n",
       "2.0     0.010986  \n",
       "2.1     0.007336  \n",
       "2.2     0.004201  \n",
       "2.3     0.001681  \n",
       "2.4    -0.000019  \n",
       "2.5    -0.001025  \n",
       "2.6    -0.001357  \n",
       "2.7    -0.001113  \n",
       "2.8    -0.000450  \n",
       "2.9     0.000232  \n",
       "3.0     0.000400  "
      ]
     },
     "execution_count": 7,
     "metadata": {},
     "output_type": "execute_result"
    }
   ],
   "source": [
    "means_diff_df = means_df.drop(['run_id', 'true_probs'], axis=1).sub(means_df['true_probs'], axis=0)\n",
    "means_diff_df"
   ]
  },
  {
   "cell_type": "code",
   "execution_count": 8,
   "metadata": {},
   "outputs": [],
   "source": [
    "main_df.t.unique()\n",
    "ts_to_show = [0.3, 0.8, 1.3, 1.8]\n",
    "main_df_hist = main_df[main_df['t'].round(1).isin(ts_to_show)]"
   ]
  },
  {
   "cell_type": "code",
   "execution_count": 9,
   "metadata": {},
   "outputs": [
    {
     "data": {
      "image/png": "[encoded data removed]",
      "text/plain": [
       "<Figure size 432x288 with 4 Axes>"
      ]
     },
     "metadata": {
      "needs_background": "light"
     },
     "output_type": "display_data"
    }
   ],
   "source": [
    "main_df_hist['probs_x_np'].hist(by=main_df_hist['t'])\n",
    "plt.show()"
   ]
  },
  {
   "cell_type": "code",
   "execution_count": 14,
   "metadata": {},
   "outputs": [
    {
     "data": {
      "text/plain": [
       "<AxesSubplot:xlabel='t'>"
      ]
     },
     "execution_count": 14,
     "metadata": {},
     "output_type": "execute_result"
    },
    {
     "data": {
      "image/png": "[encoded data removed]",
      "text/plain": [
       "<Figure size 432x288 with 1 Axes>"
      ]
     },
     "metadata": {
      "needs_background": "light"
     },
     "output_type": "display_data"
    }
   ],
   "source": [
    "means_diff_df.plot()"
   ]
  },
  {
   "cell_type": "code",
   "execution_count": 19,
   "metadata": {},
   "outputs": [
    {
     "data": {
      "text/plain": [
       "<AxesSubplot:xlabel='t'>"
      ]
     },
     "execution_count": 19,
     "metadata": {},
     "output_type": "execute_result"
    },
    {
     "data": {
      "image/png": "[encoded data removed]",
      "text/plain": [
       "<Figure size 432x288 with 1 Axes>"
      ]
     },
     "metadata": {
      "needs_background": "light"
     },
     "output_type": "display_data"
    }
   ],
   "source": [
    "means_df['true_probs'].plot()\n",
    "means_df['cmc_2048'].plot()\n",
    "means_df['probs_x_np'].plot()"
   ]
  },
  {
   "attachments": {},
   "cell_type": "markdown",
   "metadata": {},
   "source": [
    "## Repeated experimetns RealNVP"
   ]
  },
  {
   "cell_type": "code",
   "execution_count": null,
   "metadata": {},
   "outputs": [],
   "source": [
    "num_experiments = 1000\n",
    "\n",
    "\n",
    "# Parameters\n",
    "prob_delta = 0.5\n",
    "num_segments = 6\n",
    "max_iter = 1750\n",
    "num_samples = 2048\n",
    "dims_dense =[1, 16, 64, 16, 1]\n",
    "\n",
    "list_of_dfs = []\n",
    "\n",
    "#Distribution\n",
    "\n",
    "K_intervals = torch.Tensor([[0.5, 1],\n",
    "                        [3,3]])\n",
    "nu = NormUnif(x_dim = 2, prob_delta=prob_delta, K_intervals=K_intervals)\n",
    "\n",
    "middle_point = [0,0]\n",
    "range_p = [5, 5]\n",
    "\n",
    "grid_size = 200\n",
    "xx, yy = torch.meshgrid(torch.linspace((middle_point[0]-range_p[0]), (middle_point[0]+range_p[0]), grid_size), torch.linspace((middle_point[1]-range_p[1]), (middle_point[1]+range_p[1]), grid_size))\n",
    "zz = torch.cat([xx.unsqueeze(2), yy.unsqueeze(2)], 2).view(-1, 2)\n",
    "import pandas as pd\n",
    "\n",
    "\n",
    "\n",
    "    \n",
    "for run_id in tqdm(range(num_experiments)):\n",
    "    base = nf.distributions.base.DiagGaussian(2)\n",
    "\n",
    "    # Define list of flows\n",
    "    num_layers = 32\n",
    "    flows = []\n",
    "    for i in range(num_layers):\n",
    "        # Neural network with two hidden layers having 64 units each\n",
    "        # Last layer is initialized by zeros making training more stable\n",
    "        param_map = nf.nets.MLP([1, 64, 64, 2], init_zeros=True)\n",
    "        # Add flow layer\n",
    "        flows.append(nf.flows.AffineCouplingBlock(param_map))\n",
    "        # Swap dimensions\n",
    "        flows.append(nf.flows.Permute(2, mode='swap'))\n",
    "\n",
    "    model = nf.NormalizingFlow(base, flows)\n",
    "\n",
    "    show_iter = int(max_iter/8)\n",
    "\n",
    "    optimizer = torch.optim.Adam(model.parameters(), lr=5e-4, weight_decay=1e-5)\n",
    "\n",
    "    # Get training samples\n",
    "    x_np = nu.forward(num_samples)[0].numpy()\n",
    "    x = torch.tensor(x_np).float()\n",
    "\n",
    "    # Training loop\n",
    "    for it in range(max_iter):\n",
    "        optimizer.zero_grad()\n",
    "        \n",
    "        # Compute loss\n",
    "        loss = model.forward_kld(x)\n",
    "        \n",
    "        # Do backprop and optimizer step\n",
    "        if ~(torch.isnan(loss) | torch.isinf(loss)):\n",
    "            loss.backward()\n",
    "            optimizer.step()\n",
    "        \n",
    "    \n",
    "\n",
    "    \n",
    "    t_array = np.arange(0, 3.01, 0.1)\n",
    "    true_probs = []\n",
    "    probs_x_np = []\n",
    "    cmc_2048 = []\n",
    "    cmc_4096 = []\n",
    "    cmc_10000 = []\n",
    "\n",
    "    # Calculating true value of P(X>t)\n",
    "    for t_float in t_array:\n",
    "        t = torch.tensor(t_float)\n",
    "        true_probs.append(nu.prob_greater_t(t).item())\n",
    "        probs_x_np.append(calc_prob_greater_t(samples_np=x_np, t_float=t_float))\n",
    "\n",
    "    dict_estims = {'t':t_array, 'true_probs':true_probs, 'probs_x_np':probs_x_np}\n",
    "\n",
    "    for nums_s in [2048, 4096, 10000]:\n",
    "        cmc_list = []\n",
    "        strat_list = []\n",
    "        for t_float in t_array:\n",
    "            cmc_list.append(estim_prob_greater_t(model, R = nums_s, t_float=t_float))\n",
    "            samples_strat = generate_samples_from_model_stratified(model, 20000, m=4, n = 2,verbose=False)['samples']\n",
    "            strat_list.append(calc_prob_greater_t(samples_np=samples_strat, t_float=t_float))\n",
    "        \n",
    "        dict_estims[f'cmc_{nums_s}'] = cmc_list.copy()\n",
    "        dict_estims[f'strat_{nums_s}'] = strat_list.copy()\n",
    "\n",
    "    estim_df = pd.DataFrame(dict_estims)\n",
    "    estim_df['run_id'] = run_id\n",
    "    list_of_dfs.append(estim_df)\n",
    "    if (run_id + 1)%50 == 0:\n",
    "        main_df = pd.concat(list_of_dfs)\n",
    "        main_df.to_csv('MC_RealNVP_experiments.csv')\n",
    "        print(f\"Saved df with {run_id+1} experiments!\")"
   ]
  }
 ],
 "metadata": {
  "kernelspec": {
   "display_name": "Python 3",
   "language": "python",
   "name": "python3"
  },
  "language_info": {
   "codemirror_mode": {
    "name": "ipython",
    "version": 3
   },
   "file_extension": ".py",
   "mimetype": "text/x-python",
   "name": "python",
   "nbconvert_exporter": "python",
   "pygments_lexer": "ipython3",
   "version": "3.9.2"
  },
  "orig_nbformat": 4,
  "vscode": {
   "interpreter": {
    "hash": "6819c49ba5a09ca392b5492c0f94828bf52946dc6ae61b12b9bc870288a3edfe"
   }
  }
 },
 "nbformat": 4,
 "nbformat_minor": 2
}
