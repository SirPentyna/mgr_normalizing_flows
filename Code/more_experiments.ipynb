{
 "cells": [
  {
   "cell_type": "markdown",
   "metadata": {},
   "source": [
    "# Experiments with simple models and with using TensorBoard\n",
    "\n",
    "Useful link: https://towardsdatascience.com/a-complete-guide-to-using-tensorboard-with-pytorch-53cb2301e8c3"
   ]
  },
  {
   "cell_type": "code",
   "execution_count": 22,
   "metadata": {},
   "outputs": [],
   "source": [
    "from utils import *\n",
    "import time\n",
    "import matplotlib.pyplot as plt\n",
    "from torch.utils.tensorboard import SummaryWriter\n",
    "\n",
    "import matplotlib.pyplot as plt\n",
    "import matplotlib.animation as animation\n",
    "writergif = animation.PillowWriter(fps=6) \n"
   ]
  },
  {
   "cell_type": "code",
   "execution_count": 23,
   "metadata": {},
   "outputs": [],
   "source": [
    "def one_experiment(prob_delta = 0.1, num_segments = 2, pow_of_two = 4, max_iter = 2000, num_samples = 100000, dims_dense =[1, 2, 1]):\n",
    "    run_name = f'NICE_simple_nn_scaling_eq_delta_{int(prob_delta*100)}'\\\n",
    "        f'_segments_{num_segments}_pow_two_{pow_of_two}'\\\n",
    "            f'_max_iter_{max_iter}_num_samples_{num_samples}_{int(time.time())}'\\\n",
    "                f'_dim_dense_{\"-\".join([str(i) for i in dims_dense])}' \n",
    "    path_to_tensorboard = f'runs2/' + run_name\n",
    "    writer = SummaryWriter(path_to_tensorboard)\n",
    "\n",
    "    # Creating models\n",
    "    base = nf.distributions.base.DiagGaussian(2)\n",
    "    flows = []\n",
    "    for i in range(num_segments):\n",
    "        flows += [AffineSingleBlock(SimpleDenseCustDim(dims=dims_dense))]\n",
    "        flows += [Swap()]\n",
    "\n",
    "    flows += [ScalingBlock(dim_x = 2)]\n",
    "    model = MyNormFlow(q0 = base, flows = flows)\n",
    "\n",
    "    #Writer for Tensorboard\n",
    "    writer.add_graph(model, torch.tensor([[0.0, 0.0]]))\n",
    "    writer.close()\n",
    "\n",
    "    K_intervals = torch.Tensor([[0.5, 1],\n",
    "                        [3,3]])\n",
    "\n",
    "    nu = NormUnif(x_dim = 2, prob_delta=prob_delta, K_intervals=K_intervals)\n",
    "\n",
    "    \n",
    "\n",
    "    middle_point = [0,0]\n",
    "    range_p = [5, 5]\n",
    "\n",
    "    grid_size = 200\n",
    "    xx, yy = torch.meshgrid(torch.linspace((middle_point[0]-range_p[0]), (middle_point[0]+range_p[0]), grid_size), torch.linspace((middle_point[1]-range_p[1]), (middle_point[1]+range_p[1]), grid_size))\n",
    "    zz = torch.cat([xx.unsqueeze(2), yy.unsqueeze(2)], 2).view(-1, 2)\n",
    "\n",
    "\n",
    "    # Train model\n",
    "    show_iter = int(max_iter/8)\n",
    "\n",
    "\n",
    "    loss_hist = np.array([])\n",
    "\n",
    "    t_float = 0.3\n",
    "    t = torch.tensor(t_float)\n",
    "    true_prob = nu.prob_greater_t(t).item()\n",
    "    optimizer = torch.optim.Adam(model.parameters(), lr=5e-4, weight_decay=1e-5)\n",
    "\n",
    "    #animation\n",
    "    # ims = []\n",
    "\n",
    "    for it in tqdm(range(max_iter)):\n",
    "        optimizer.zero_grad()\n",
    "        \n",
    "        # Get training samples\n",
    "        x_np = nu.forward(num_samples)[0].numpy()\n",
    "        x = torch.tensor(x_np).float()\n",
    "        \n",
    "        # Compute loss\n",
    "        loss = model.forward_kld(x)\n",
    "        \n",
    "        # Do backprop and optimizer step\n",
    "        if ~(torch.isnan(loss) | torch.isinf(loss)):\n",
    "            loss.backward()\n",
    "            optimizer.step()\n",
    "        \n",
    "        # Log loss\n",
    "        loss_hist = np.append(loss_hist, loss.to('cpu').data.numpy())\n",
    "\n",
    "        #error prob\n",
    "        \n",
    "        estim_prob = estim_prob_greater_t(model, 2*num_samples, t_float)\n",
    "        \n",
    "        \n",
    "        writer.add_scalar('Loss', loss_hist[-1], it)\n",
    "        writer.add_scalar('Bias_prob', estim_prob - true_prob, it)\n",
    "        writer.add_scalar('SqErr_prob', (estim_prob - true_prob)**2, it)\n",
    "\n",
    "        \n",
    "        # Plot learned posterior\n",
    "        if (it + 1) % show_iter == 0:\n",
    "            model.eval()\n",
    "            log_prob = model.log_prob(zz)\n",
    "            model.train()\n",
    "            prob = torch.exp(log_prob.to('cpu').view(*xx.shape))\n",
    "            prob[torch.isnan(prob)] = 0\n",
    "\n",
    "            fig = plt.figure(figsize=(15, 15))\n",
    "            plt.pcolormesh(xx, yy, prob.data.numpy())\n",
    "            plt.gca().set_aspect('equal', 'box')\n",
    "            #plt.show()\n",
    "\n",
    "            writer.add_figure('Distribution', fig, it)\n",
    "\n",
    "            # #for animation\n",
    "            # ims.append([fig])\n",
    "            \n",
    "    #animation\n",
    "    # ani = animation.ArtistAnimation(fig, ims, interval=500, blit=True,\n",
    "    #                             repeat_delay=1000)\n",
    "    # animation_dir = \"C:/Users/Sacia/OneDrive - Uniwersytet Wrocławski\\Dokumenty/0. Studia/Matematyka/0. Praca magisterska/mgr_normalizing_flows/animation_folder/\"+run_name+'.gif'\n",
    "    # ani.save(animation_dir, writer=writergif)\n",
    "    # Plot loss\n",
    "    # plt.figure(figsize=(10, 10))\n",
    "    # plt.plot(loss_hist, label='loss')\n",
    "    # plt.legend()\n",
    "    # plt.show()\n",
    "\n",
    "    print({\"max_iter\":max_iter, \n",
    "                        \"num_samples\":num_samples,\n",
    "                        'num_segments':num_segments,\n",
    "                        'pow_of_two':pow_of_two,\n",
    "                        'prob_delta': prob_delta,\n",
    "                        'dims_dense':dims_dense},\n",
    "                        {\"loss\": float(loss_hist[-1]), \n",
    "                         \"Bias_prob_hyp\":float(estim_prob - true_prob),\n",
    "                         \"SqErr_prob_hyp\":float(estim_prob - true_prob)**2})\n",
    "\n",
    "\n",
    "    writer.add_hparams({\"max_iter\":max_iter, \n",
    "                        \"num_samples\":num_samples,\n",
    "                        'num_segments':num_segments,\n",
    "                        'pow_of_two':pow_of_two,\n",
    "                        'prob_delta': prob_delta,\n",
    "                        'dims_dense':'-'.join([str(i) for i in dims_dense])},\n",
    "                        {\"loss\": float(loss_hist[-1]), \n",
    "                         \"Bias_prob_hyp\":float(estim_prob - true_prob),\n",
    "                         \"SqErr_prob_hyp\":float(estim_prob - true_prob)**2})\n",
    "\n",
    "    writer.close()"
   ]
  },
  {
   "cell_type": "code",
   "execution_count": 24,
   "metadata": {},
   "outputs": [
    {
     "name": "stderr",
     "output_type": "stream",
     "text": [
      "<ipython-input-24-16f8de956280>:7: VisibleDeprecationWarning: Creating an ndarray from ragged nested sequences (which is a list-or-tuple of lists-or-tuples-or ndarrays with different lengths or shapes) is deprecated. If you meant to do this, you must specify 'dtype=object' when creating the ndarray.\n",
      "  ar = np.array([[xa, xb, xc, xd, xe] for xa in a for xb in b for xc in c for xd in d for xe in e])\n"
     ]
    }
   ],
   "source": [
    "a = np.array([4, 6, 8])  #segments\n",
    "b = np.array([1]) #pow of two\n",
    "c = np.array([2000, 4000]) #max iter\n",
    "d = np.array([2048, 5000, 10000])\n",
    "e = np.array([[1,16,64,16,1], [1,16,32,16,1], [1,4,32,4,1]])\n",
    "\n",
    "ar = np.array([[xa, xb, xc, xd, xe] for xa in a for xb in b for xc in c for xd in d for xe in e])"
   ]
  },
  {
   "cell_type": "code",
   "execution_count": 25,
   "metadata": {},
   "outputs": [
    {
     "name": "stdout",
     "output_type": "stream",
     "text": [
      "4 1 2000 2048 [ 1 16 64 16  1]\n"
     ]
    },
    {
     "name": "stderr",
     "output_type": "stream",
     "text": [
      " 12%|█▏        | 247/2000 [00:11<01:43, 16.86it/s]<ipython-input-23-526ff04af551>:89: MatplotlibDeprecationWarning: shading='flat' when X and Y have the same dimensions as C is deprecated since 3.3.  Either specify the corners of the quadrilaterals with X and Y, or pass shading='auto', 'nearest' or 'gouraud', or set rcParams['pcolor.shading'].  This will become an error two minor releases later.\n",
      "  plt.pcolormesh(xx, yy, prob.data.numpy())\n",
      "100%|██████████| 2000/2000 [01:26<00:00, 23.08it/s]\n"
     ]
    },
    {
     "name": "stdout",
     "output_type": "stream",
     "text": [
      "{'max_iter': 2000, 'num_samples': 2048, 'num_segments': 4, 'pow_of_two': 1, 'prob_delta': 0.8, 'dims_dense': [1, 16, 64, 16, 1]} {'loss': 3.037942886352539, 'Bias_prob_hyp': -0.004781603813171387, 'SqErr_prob_hyp': 2.2863735026135146e-05}\n",
      "4 1 2000 2048 [ 1 16 32 16  1]\n"
     ]
    },
    {
     "name": "stderr",
     "output_type": "stream",
     "text": [
      "100%|██████████| 2000/2000 [01:07<00:00, 29.47it/s]\n"
     ]
    },
    {
     "name": "stdout",
     "output_type": "stream",
     "text": [
      "{'max_iter': 2000, 'num_samples': 2048, 'num_segments': 4, 'pow_of_two': 1, 'prob_delta': 0.8, 'dims_dense': [1, 16, 32, 16, 1]} {'loss': 3.05623197555542, 'Bias_prob_hyp': 0.007669568061828613, 'SqErr_prob_hyp': 5.882227425502151e-05}\n",
      "4 1 2000 2048 [ 1  4 32  4  1]\n"
     ]
    },
    {
     "name": "stderr",
     "output_type": "stream",
     "text": [
      "100%|██████████| 2000/2000 [01:00<00:00, 32.93it/s]\n"
     ]
    },
    {
     "name": "stdout",
     "output_type": "stream",
     "text": [
      "{'max_iter': 2000, 'num_samples': 2048, 'num_segments': 4, 'pow_of_two': 1, 'prob_delta': 0.8, 'dims_dense': [1, 4, 32, 4, 1]} {'loss': 3.0671002864837646, 'Bias_prob_hyp': 0.0003453493118286133, 'SqErr_prob_hyp': 1.1926614718049677e-07}\n",
      "4 1 2000 5000 [ 1 16 64 16  1]\n"
     ]
    },
    {
     "name": "stderr",
     "output_type": "stream",
     "text": [
      "100%|██████████| 2000/2000 [02:39<00:00, 12.57it/s]\n"
     ]
    },
    {
     "name": "stdout",
     "output_type": "stream",
     "text": [
      "{'max_iter': 2000, 'num_samples': 5000, 'num_segments': 4, 'pow_of_two': 1, 'prob_delta': 0.8, 'dims_dense': [1, 16, 64, 16, 1]} {'loss': 3.0876405239105225, 'Bias_prob_hyp': 0.005106677436828633, 'SqErr_prob_hyp': 2.6078154443814654e-05}\n",
      "4 1 2000 5000 [ 1 16 32 16  1]\n"
     ]
    },
    {
     "name": "stderr",
     "output_type": "stream",
     "text": [
      "100%|██████████| 2000/2000 [01:55<00:00, 17.38it/s]\n"
     ]
    },
    {
     "name": "stdout",
     "output_type": "stream",
     "text": [
      "{'max_iter': 2000, 'num_samples': 5000, 'num_segments': 4, 'pow_of_two': 1, 'prob_delta': 0.8, 'dims_dense': [1, 16, 32, 16, 1]} {'loss': 3.0750932693481445, 'Bias_prob_hyp': 0.00430667743682861, 'SqErr_prob_hyp': 1.8547470544888644e-05}\n",
      "4 1 2000 5000 [ 1  4 32  4  1]\n"
     ]
    },
    {
     "name": "stderr",
     "output_type": "stream",
     "text": [
      "100%|██████████| 2000/2000 [01:34<00:00, 21.23it/s]\n"
     ]
    },
    {
     "name": "stdout",
     "output_type": "stream",
     "text": [
      "{'max_iter': 2000, 'num_samples': 5000, 'num_segments': 4, 'pow_of_two': 1, 'prob_delta': 0.8, 'dims_dense': [1, 4, 32, 4, 1]} {'loss': 3.076322555541992, 'Bias_prob_hyp': 0.0165066774368286, 'SqErr_prob_hyp': 0.00027247040000350636}\n",
      "4 1 2000 10000 [ 1 16 64 16  1]\n"
     ]
    },
    {
     "name": "stderr",
     "output_type": "stream",
     "text": [
      "100%|██████████| 2000/2000 [04:03<00:00,  8.23it/s]\n"
     ]
    },
    {
     "name": "stdout",
     "output_type": "stream",
     "text": [
      "{'max_iter': 2000, 'num_samples': 10000, 'num_segments': 4, 'pow_of_two': 1, 'prob_delta': 0.8, 'dims_dense': [1, 16, 64, 16, 1]} {'loss': 3.0501368045806885, 'Bias_prob_hyp': 0.0054066774368286, 'SqErr_prob_hyp': 2.9232160905911476e-05}\n",
      "4 1 2000 10000 [ 1 16 32 16  1]\n"
     ]
    },
    {
     "name": "stderr",
     "output_type": "stream",
     "text": [
      "100%|██████████| 2000/2000 [02:40<00:00, 12.43it/s]\n"
     ]
    },
    {
     "name": "stdout",
     "output_type": "stream",
     "text": [
      "{'max_iter': 2000, 'num_samples': 10000, 'num_segments': 4, 'pow_of_two': 1, 'prob_delta': 0.8, 'dims_dense': [1, 16, 32, 16, 1]} {'loss': 3.057830572128296, 'Bias_prob_hyp': 0.005506677436828589, 'SqErr_prob_hyp': 3.0323496393277077e-05}\n",
      "4 1 2000 10000 [ 1  4 32  4  1]\n"
     ]
    },
    {
     "name": "stderr",
     "output_type": "stream",
     "text": [
      "100%|██████████| 2000/2000 [02:18<00:00, 14.39it/s]\n"
     ]
    },
    {
     "name": "stdout",
     "output_type": "stream",
     "text": [
      "{'max_iter': 2000, 'num_samples': 10000, 'num_segments': 4, 'pow_of_two': 1, 'prob_delta': 0.8, 'dims_dense': [1, 4, 32, 4, 1]} {'loss': 3.0770742893218994, 'Bias_prob_hyp': 0.006006677436828589, 'SqErr_prob_hyp': 3.608017383010567e-05}\n",
      "4 1 4000 2048 [ 1 16 64 16  1]\n"
     ]
    },
    {
     "name": "stderr",
     "output_type": "stream",
     "text": [
      "100%|██████████| 4000/4000 [02:45<00:00, 24.15it/s]\n"
     ]
    },
    {
     "name": "stdout",
     "output_type": "stream",
     "text": [
      "{'max_iter': 4000, 'num_samples': 2048, 'num_segments': 4, 'pow_of_two': 1, 'prob_delta': 0.8, 'dims_dense': [1, 16, 64, 16, 1]} {'loss': 3.0607335567474365, 'Bias_prob_hyp': -0.0030726194381713867, 'SqErr_prob_hyp': 9.440990211828648e-06}\n",
      "4 1 4000 2048 [ 1 16 32 16  1]\n"
     ]
    },
    {
     "name": "stderr",
     "output_type": "stream",
     "text": [
      "100%|██████████| 4000/4000 [02:21<00:00, 28.20it/s]\n"
     ]
    },
    {
     "name": "stdout",
     "output_type": "stream",
     "text": [
      "{'max_iter': 4000, 'num_samples': 2048, 'num_segments': 4, 'pow_of_two': 1, 'prob_delta': 0.8, 'dims_dense': [1, 16, 32, 16, 1]} {'loss': 3.06545090675354, 'Bias_prob_hyp': -0.0020960569381713867, 'SqErr_prob_hyp': 4.3934546880564085e-06}\n",
      "4 1 4000 2048 [ 1  4 32  4  1]\n"
     ]
    },
    {
     "name": "stderr",
     "output_type": "stream",
     "text": [
      "100%|██████████| 4000/4000 [03:43<00:00, 17.88it/s]\n"
     ]
    },
    {
     "name": "stdout",
     "output_type": "stream",
     "text": [
      "{'max_iter': 4000, 'num_samples': 2048, 'num_segments': 4, 'pow_of_two': 1, 'prob_delta': 0.8, 'dims_dense': [1, 4, 32, 4, 1]} {'loss': 3.0863471031188965, 'Bias_prob_hyp': 0.013040661811828613, 'SqErr_prob_hyp': 0.00017005886049048513}\n",
      "4 1 4000 5000 [ 1 16 64 16  1]\n"
     ]
    },
    {
     "name": "stderr",
     "output_type": "stream",
     "text": [
      "100%|██████████| 4000/4000 [04:31<00:00, 14.72it/s]\n"
     ]
    },
    {
     "name": "stdout",
     "output_type": "stream",
     "text": [
      "{'max_iter': 4000, 'num_samples': 5000, 'num_segments': 4, 'pow_of_two': 1, 'prob_delta': 0.8, 'dims_dense': [1, 16, 64, 16, 1]} {'loss': 3.077986717224121, 'Bias_prob_hyp': 0.004906677436828599, 'SqErr_prob_hyp': 2.4075483469082872e-05}\n",
      "4 1 4000 5000 [ 1 16 32 16  1]\n"
     ]
    },
    {
     "name": "stderr",
     "output_type": "stream",
     "text": [
      "100%|██████████| 4000/4000 [03:37<00:00, 18.37it/s]\n"
     ]
    },
    {
     "name": "stdout",
     "output_type": "stream",
     "text": [
      "{'max_iter': 4000, 'num_samples': 5000, 'num_segments': 4, 'pow_of_two': 1, 'prob_delta': 0.8, 'dims_dense': [1, 16, 32, 16, 1]} {'loss': 3.078974723815918, 'Bias_prob_hyp': 0.006406677436828601, 'SqErr_prob_hyp': 4.104551577956869e-05}\n",
      "4 1 4000 5000 [ 1  4 32  4  1]\n"
     ]
    },
    {
     "name": "stderr",
     "output_type": "stream",
     "text": [
      "100%|██████████| 4000/4000 [03:15<00:00, 20.51it/s]\n"
     ]
    },
    {
     "name": "stdout",
     "output_type": "stream",
     "text": [
      "{'max_iter': 4000, 'num_samples': 5000, 'num_segments': 4, 'pow_of_two': 1, 'prob_delta': 0.8, 'dims_dense': [1, 4, 32, 4, 1]} {'loss': 3.044029712677002, 'Bias_prob_hyp': -0.01209332256317136, 'SqErr_prob_hyp': 0.0001462484506169095}\n",
      "4 1 4000 10000 [ 1 16 64 16  1]\n"
     ]
    },
    {
     "name": "stderr",
     "output_type": "stream",
     "text": [
      "100%|██████████| 4000/4000 [07:31<00:00,  8.87it/s]\n"
     ]
    },
    {
     "name": "stdout",
     "output_type": "stream",
     "text": [
      "{'max_iter': 4000, 'num_samples': 10000, 'num_segments': 4, 'pow_of_two': 1, 'prob_delta': 0.8, 'dims_dense': [1, 16, 64, 16, 1]} {'loss': 3.0864932537078857, 'Bias_prob_hyp': 0.002856677436828603, 'SqErr_prob_hyp': 8.160605978085637e-06}\n",
      "4 1 4000 10000 [ 1 16 32 16  1]\n"
     ]
    },
    {
     "name": "stderr",
     "output_type": "stream",
     "text": [
      "100%|██████████| 4000/4000 [05:33<00:00, 12.01it/s]\n"
     ]
    },
    {
     "name": "stdout",
     "output_type": "stream",
     "text": [
      "{'max_iter': 4000, 'num_samples': 10000, 'num_segments': 4, 'pow_of_two': 1, 'prob_delta': 0.8, 'dims_dense': [1, 16, 32, 16, 1]} {'loss': 3.0616254806518555, 'Bias_prob_hyp': 0.0005066774368286397, 'SqErr_prob_hyp': 2.567220249912402e-07}\n",
      "4 1 4000 10000 [ 1  4 32  4  1]\n"
     ]
    },
    {
     "name": "stderr",
     "output_type": "stream",
     "text": [
      "100%|██████████| 4000/4000 [05:00<00:00, 13.30it/s]\n"
     ]
    },
    {
     "name": "stdout",
     "output_type": "stream",
     "text": [
      "{'max_iter': 4000, 'num_samples': 10000, 'num_segments': 4, 'pow_of_two': 1, 'prob_delta': 0.8, 'dims_dense': [1, 4, 32, 4, 1]} {'loss': 3.0688936710357666, 'Bias_prob_hyp': 0.008956677436828597, 'SqErr_prob_hyp': 8.02220707073945e-05}\n",
      "6 1 2000 2048 [ 1 16 64 16  1]\n"
     ]
    },
    {
     "name": "stderr",
     "output_type": "stream",
     "text": [
      "100%|██████████| 2000/2000 [01:54<00:00, 17.42it/s]\n"
     ]
    },
    {
     "name": "stdout",
     "output_type": "stream",
     "text": [
      "{'max_iter': 2000, 'num_samples': 2048, 'num_segments': 6, 'pow_of_two': 1, 'prob_delta': 0.8, 'dims_dense': [1, 16, 64, 16, 1]} {'loss': 3.0553958415985107, 'Bias_prob_hyp': -0.004049181938171387, 'SqErr_prob_hyp': 1.6395874368413388e-05}\n",
      "6 1 2000 2048 [ 1 16 32 16  1]\n"
     ]
    },
    {
     "name": "stderr",
     "output_type": "stream",
     "text": [
      "100%|██████████| 2000/2000 [01:34<00:00, 21.24it/s]\n"
     ]
    },
    {
     "name": "stdout",
     "output_type": "stream",
     "text": [
      "{'max_iter': 2000, 'num_samples': 2048, 'num_segments': 6, 'pow_of_two': 1, 'prob_delta': 0.8, 'dims_dense': [1, 16, 32, 16, 1]} {'loss': 3.0903725624084473, 'Bias_prob_hyp': 0.007669568061828613, 'SqErr_prob_hyp': 5.882227425502151e-05}\n",
      "6 1 2000 2048 [ 1  4 32  4  1]\n"
     ]
    },
    {
     "name": "stderr",
     "output_type": "stream",
     "text": [
      "100%|██████████| 2000/2000 [01:27<00:00, 22.85it/s]\n"
     ]
    },
    {
     "name": "stdout",
     "output_type": "stream",
     "text": [
      "{'max_iter': 2000, 'num_samples': 2048, 'num_segments': 6, 'pow_of_two': 1, 'prob_delta': 0.8, 'dims_dense': [1, 4, 32, 4, 1]} {'loss': 3.117105484008789, 'Bias_prob_hyp': 0.011087536811828613, 'SqErr_prob_hyp': 0.0001229334725536546}\n",
      "6 1 2000 5000 [ 1 16 64 16  1]\n"
     ]
    },
    {
     "name": "stderr",
     "output_type": "stream",
     "text": [
      "100%|██████████| 2000/2000 [03:07<00:00, 10.68it/s]\n"
     ]
    },
    {
     "name": "stdout",
     "output_type": "stream",
     "text": [
      "{'max_iter': 2000, 'num_samples': 5000, 'num_segments': 6, 'pow_of_two': 1, 'prob_delta': 0.8, 'dims_dense': [1, 16, 64, 16, 1]} {'loss': 3.057070016860962, 'Bias_prob_hyp': 0.00210667743682863, 'SqErr_prob_hyp': 4.4380898228428465e-06}\n",
      "6 1 2000 5000 [ 1 16 32 16  1]\n"
     ]
    },
    {
     "name": "stderr",
     "output_type": "stream",
     "text": [
      "100%|██████████| 2000/2000 [02:31<00:00, 13.16it/s]\n"
     ]
    },
    {
     "name": "stdout",
     "output_type": "stream",
     "text": [
      "{'max_iter': 2000, 'num_samples': 5000, 'num_segments': 6, 'pow_of_two': 1, 'prob_delta': 0.8, 'dims_dense': [1, 16, 32, 16, 1]} {'loss': 3.067979574203491, 'Bias_prob_hyp': 0.004706677436828621, 'SqErr_prob_hyp': 2.215281249435164e-05}\n",
      "6 1 2000 5000 [ 1  4 32  4  1]\n"
     ]
    },
    {
     "name": "stderr",
     "output_type": "stream",
     "text": [
      "100%|██████████| 2000/2000 [02:28<00:00, 13.46it/s]\n"
     ]
    },
    {
     "name": "stdout",
     "output_type": "stream",
     "text": [
      "{'max_iter': 2000, 'num_samples': 5000, 'num_segments': 6, 'pow_of_two': 1, 'prob_delta': 0.8, 'dims_dense': [1, 4, 32, 4, 1]} {'loss': 3.0615971088409424, 'Bias_prob_hyp': 0.005206677436828622, 'SqErr_prob_hyp': 2.7109489931180265e-05}\n",
      "6 1 2000 10000 [ 1 16 64 16  1]\n"
     ]
    },
    {
     "name": "stderr",
     "output_type": "stream",
     "text": [
      "100%|██████████| 2000/2000 [05:39<00:00,  5.89it/s]\n"
     ]
    },
    {
     "name": "stdout",
     "output_type": "stream",
     "text": [
      "{'max_iter': 2000, 'num_samples': 10000, 'num_segments': 6, 'pow_of_two': 1, 'prob_delta': 0.8, 'dims_dense': [1, 16, 64, 16, 1]} {'loss': 3.063061237335205, 'Bias_prob_hyp': 0.0005066774368286397, 'SqErr_prob_hyp': 2.567220249912402e-07}\n",
      "6 1 2000 10000 [ 1 16 32 16  1]\n"
     ]
    },
    {
     "name": "stderr",
     "output_type": "stream",
     "text": [
      "100%|██████████| 2000/2000 [04:35<00:00,  7.25it/s]\n"
     ]
    },
    {
     "name": "stdout",
     "output_type": "stream",
     "text": [
      "{'max_iter': 2000, 'num_samples': 10000, 'num_segments': 6, 'pow_of_two': 1, 'prob_delta': 0.8, 'dims_dense': [1, 16, 32, 16, 1]} {'loss': 3.0667362213134766, 'Bias_prob_hyp': -0.0004933225631713611, 'SqErr_prob_hyp': 2.433671513339616e-07}\n",
      "6 1 2000 10000 [ 1  4 32  4  1]\n"
     ]
    },
    {
     "name": "stderr",
     "output_type": "stream",
     "text": [
      "100%|██████████| 2000/2000 [03:38<00:00,  9.17it/s]\n"
     ]
    },
    {
     "name": "stdout",
     "output_type": "stream",
     "text": [
      "{'max_iter': 2000, 'num_samples': 10000, 'num_segments': 6, 'pow_of_two': 1, 'prob_delta': 0.8, 'dims_dense': [1, 4, 32, 4, 1]} {'loss': 3.0719540119171143, 'Bias_prob_hyp': 0.005656677436828628, 'SqErr_prob_hyp': 3.1997999624326096e-05}\n",
      "6 1 4000 2048 [ 1 16 64 16  1]\n"
     ]
    },
    {
     "name": "stderr",
     "output_type": "stream",
     "text": [
      "100%|██████████| 4000/4000 [03:54<00:00, 17.03it/s]\n"
     ]
    },
    {
     "name": "stdout",
     "output_type": "stream",
     "text": [
      "{'max_iter': 4000, 'num_samples': 2048, 'num_segments': 6, 'pow_of_two': 1, 'prob_delta': 0.8, 'dims_dense': [1, 16, 64, 16, 1]} {'loss': 3.0663225650787354, 'Bias_prob_hyp': -0.013082385063171387, 'SqErr_prob_hyp': 0.0001711487989410898}\n",
      "6 1 4000 2048 [ 1 16 32 16  1]\n"
     ]
    },
    {
     "name": "stderr",
     "output_type": "stream",
     "text": [
      "100%|██████████| 4000/4000 [03:17<00:00, 20.24it/s]\n"
     ]
    },
    {
     "name": "stdout",
     "output_type": "stream",
     "text": [
      "{'max_iter': 4000, 'num_samples': 2048, 'num_segments': 6, 'pow_of_two': 1, 'prob_delta': 0.8, 'dims_dense': [1, 16, 32, 16, 1]} {'loss': 3.021811008453369, 'Bias_prob_hyp': -0.00014293193817138672, 'SqErr_prob_hyp': 2.0429538949429116e-08}\n",
      "6 1 4000 2048 [ 1  4 32  4  1]\n"
     ]
    },
    {
     "name": "stderr",
     "output_type": "stream",
     "text": [
      "100%|██████████| 4000/4000 [02:52<00:00, 23.17it/s]\n"
     ]
    },
    {
     "name": "stdout",
     "output_type": "stream",
     "text": [
      "{'max_iter': 4000, 'num_samples': 2048, 'num_segments': 6, 'pow_of_two': 1, 'prob_delta': 0.8, 'dims_dense': [1, 4, 32, 4, 1]} {'loss': 3.087852716445923, 'Bias_prob_hyp': 0.012064099311828613, 'SqErr_prob_hyp': 0.00014554249220566362}\n",
      "6 1 4000 5000 [ 1 16 64 16  1]\n"
     ]
    },
    {
     "name": "stderr",
     "output_type": "stream",
     "text": [
      "100%|██████████| 4000/4000 [06:19<00:00, 10.53it/s]\n"
     ]
    },
    {
     "name": "stdout",
     "output_type": "stream",
     "text": [
      "{'max_iter': 4000, 'num_samples': 5000, 'num_segments': 6, 'pow_of_two': 1, 'prob_delta': 0.8, 'dims_dense': [1, 16, 64, 16, 1]} {'loss': 3.0444843769073486, 'Bias_prob_hyp': -0.004793322563171387, 'SqErr_prob_hyp': 2.2975941194607917e-05}\n",
      "6 1 4000 5000 [ 1 16 32 16  1]\n"
     ]
    },
    {
     "name": "stderr",
     "output_type": "stream",
     "text": [
      "100%|██████████| 4000/4000 [04:30<00:00, 14.80it/s]\n"
     ]
    },
    {
     "name": "stdout",
     "output_type": "stream",
     "text": [
      "{'max_iter': 4000, 'num_samples': 5000, 'num_segments': 6, 'pow_of_two': 1, 'prob_delta': 0.8, 'dims_dense': [1, 16, 32, 16, 1]} {'loss': 3.064185619354248, 'Bias_prob_hyp': -0.011293322563171393, 'SqErr_prob_hyp': 0.00012753913451583608}\n",
      "6 1 4000 5000 [ 1  4 32  4  1]\n"
     ]
    },
    {
     "name": "stderr",
     "output_type": "stream",
     "text": [
      "100%|██████████| 4000/4000 [04:17<00:00, 15.56it/s]\n"
     ]
    },
    {
     "name": "stdout",
     "output_type": "stream",
     "text": [
      "{'max_iter': 4000, 'num_samples': 5000, 'num_segments': 6, 'pow_of_two': 1, 'prob_delta': 0.8, 'dims_dense': [1, 4, 32, 4, 1]} {'loss': 3.0682363510131836, 'Bias_prob_hyp': 0.003506677436828587, 'SqErr_prob_hyp': 1.2296786645962708e-05}\n",
      "6 1 4000 10000 [ 1 16 64 16  1]\n"
     ]
    },
    {
     "name": "stderr",
     "output_type": "stream",
     "text": [
      "100%|██████████| 4000/4000 [10:27<00:00,  6.38it/s]\n"
     ]
    },
    {
     "name": "stdout",
     "output_type": "stream",
     "text": [
      "{'max_iter': 4000, 'num_samples': 10000, 'num_segments': 6, 'pow_of_two': 1, 'prob_delta': 0.8, 'dims_dense': [1, 16, 64, 16, 1]} {'loss': 3.0471930503845215, 'Bias_prob_hyp': -0.01259332256317136, 'SqErr_prob_hyp': 0.00015859177318008089}\n",
      "6 1 4000 10000 [ 1 16 32 16  1]\n"
     ]
    },
    {
     "name": "stderr",
     "output_type": "stream",
     "text": [
      "100%|██████████| 4000/4000 [08:34<00:00,  7.78it/s]\n"
     ]
    },
    {
     "name": "stdout",
     "output_type": "stream",
     "text": [
      "{'max_iter': 4000, 'num_samples': 10000, 'num_segments': 6, 'pow_of_two': 1, 'prob_delta': 0.8, 'dims_dense': [1, 16, 32, 16, 1]} {'loss': 3.0467419624328613, 'Bias_prob_hyp': 0.006156677436828628, 'SqErr_prob_hyp': 3.790467706115473e-05}\n",
      "6 1 4000 10000 [ 1  4 32  4  1]\n"
     ]
    },
    {
     "name": "stderr",
     "output_type": "stream",
     "text": [
      "100%|██████████| 4000/4000 [07:05<00:00,  9.40it/s]\n"
     ]
    },
    {
     "name": "stdout",
     "output_type": "stream",
     "text": [
      "{'max_iter': 4000, 'num_samples': 10000, 'num_segments': 6, 'pow_of_two': 1, 'prob_delta': 0.8, 'dims_dense': [1, 4, 32, 4, 1]} {'loss': 3.050936460494995, 'Bias_prob_hyp': 0.0018066774368286076, 'SqErr_prob_hyp': 3.264083360745587e-06}\n",
      "8 1 2000 2048 [ 1 16 64 16  1]\n"
     ]
    },
    {
     "name": "stderr",
     "output_type": "stream",
     "text": [
      "100%|██████████| 2000/2000 [02:17<00:00, 14.52it/s]\n"
     ]
    },
    {
     "name": "stdout",
     "output_type": "stream",
     "text": [
      "{'max_iter': 2000, 'num_samples': 2048, 'num_segments': 8, 'pow_of_two': 1, 'prob_delta': 0.8, 'dims_dense': [1, 16, 64, 16, 1]} {'loss': 3.0265893936157227, 'Bias_prob_hyp': -0.005025744438171387, 'SqErr_prob_hyp': 2.5258107157810628e-05}\n",
      "8 1 2000 2048 [ 1 16 32 16  1]\n"
     ]
    },
    {
     "name": "stderr",
     "output_type": "stream",
     "text": [
      "100%|██████████| 2000/2000 [01:56<00:00, 17.14it/s]\n"
     ]
    },
    {
     "name": "stdout",
     "output_type": "stream",
     "text": [
      "{'max_iter': 2000, 'num_samples': 2048, 'num_segments': 8, 'pow_of_two': 1, 'prob_delta': 0.8, 'dims_dense': [1, 16, 32, 16, 1]} {'loss': 3.0633208751678467, 'Bias_prob_hyp': 0.016214489936828613, 'SqErr_prob_hyp': 0.00026290968391151637}\n",
      "8 1 2000 2048 [ 1  4 32  4  1]\n"
     ]
    },
    {
     "name": "stderr",
     "output_type": "stream",
     "text": [
      "100%|██████████| 2000/2000 [02:05<00:00, 15.97it/s]\n"
     ]
    },
    {
     "name": "stdout",
     "output_type": "stream",
     "text": [
      "{'max_iter': 2000, 'num_samples': 2048, 'num_segments': 8, 'pow_of_two': 1, 'prob_delta': 0.8, 'dims_dense': [1, 4, 32, 4, 1]} {'loss': 3.070889711380005, 'Bias_prob_hyp': 0.009378552436828613, 'SqErr_prob_hyp': 8.795724581034392e-05}\n",
      "8 1 2000 5000 [ 1 16 64 16  1]\n"
     ]
    },
    {
     "name": "stderr",
     "output_type": "stream",
     "text": [
      "100%|██████████| 2000/2000 [04:27<00:00,  7.47it/s]\n"
     ]
    },
    {
     "name": "stdout",
     "output_type": "stream",
     "text": [
      "{'max_iter': 2000, 'num_samples': 5000, 'num_segments': 8, 'pow_of_two': 1, 'prob_delta': 0.8, 'dims_dense': [1, 16, 64, 16, 1]} {'loss': 3.0511109828948975, 'Bias_prob_hyp': -0.010293322563171392, 'SqErr_prob_hyp': 0.00010595248938949328}\n",
      "8 1 2000 5000 [ 1 16 32 16  1]\n"
     ]
    },
    {
     "name": "stderr",
     "output_type": "stream",
     "text": [
      "100%|██████████| 2000/2000 [02:54<00:00, 11.48it/s]\n"
     ]
    },
    {
     "name": "stdout",
     "output_type": "stream",
     "text": [
      "{'max_iter': 2000, 'num_samples': 5000, 'num_segments': 8, 'pow_of_two': 1, 'prob_delta': 0.8, 'dims_dense': [1, 16, 32, 16, 1]} {'loss': 3.074083089828491, 'Bias_prob_hyp': 0.003506677436828587, 'SqErr_prob_hyp': 1.2296786645962708e-05}\n",
      "8 1 2000 5000 [ 1  4 32  4  1]\n"
     ]
    },
    {
     "name": "stderr",
     "output_type": "stream",
     "text": [
      "100%|██████████| 2000/2000 [02:49<00:00, 11.78it/s]\n"
     ]
    },
    {
     "name": "stdout",
     "output_type": "stream",
     "text": [
      "{'max_iter': 2000, 'num_samples': 5000, 'num_segments': 8, 'pow_of_two': 1, 'prob_delta': 0.8, 'dims_dense': [1, 4, 32, 4, 1]} {'loss': 3.068831443786621, 'Bias_prob_hyp': -0.001393322563171373, 'SqErr_prob_hyp': 1.9413477650424447e-06}\n",
      "8 1 2000 10000 [ 1 16 64 16  1]\n"
     ]
    },
    {
     "name": "stderr",
     "output_type": "stream",
     "text": [
      "100%|██████████| 2000/2000 [08:02<00:00,  4.15it/s]\n"
     ]
    },
    {
     "name": "stdout",
     "output_type": "stream",
     "text": [
      "{'max_iter': 2000, 'num_samples': 10000, 'num_segments': 8, 'pow_of_two': 1, 'prob_delta': 0.8, 'dims_dense': [1, 16, 64, 16, 1]} {'loss': 3.0497310161590576, 'Bias_prob_hyp': 0.005156677436828627, 'SqErr_prob_hyp': 2.6591322187497462e-05}\n",
      "8 1 2000 10000 [ 1 16 32 16  1]\n"
     ]
    },
    {
     "name": "stderr",
     "output_type": "stream",
     "text": [
      "100%|██████████| 2000/2000 [05:38<00:00,  5.91it/s]\n"
     ]
    },
    {
     "name": "stdout",
     "output_type": "stream",
     "text": [
      "{'max_iter': 2000, 'num_samples': 10000, 'num_segments': 8, 'pow_of_two': 1, 'prob_delta': 0.8, 'dims_dense': [1, 16, 32, 16, 1]} {'loss': 3.061828851699829, 'Bias_prob_hyp': 0.004406677436828599, 'SqErr_prob_hyp': 1.941880603225427e-05}\n",
      "8 1 2000 10000 [ 1  4 32  4  1]\n"
     ]
    },
    {
     "name": "stderr",
     "output_type": "stream",
     "text": [
      "100%|██████████| 2000/2000 [04:35<00:00,  7.26it/s]\n"
     ]
    },
    {
     "name": "stdout",
     "output_type": "stream",
     "text": [
      "{'max_iter': 2000, 'num_samples': 10000, 'num_segments': 8, 'pow_of_two': 1, 'prob_delta': 0.8, 'dims_dense': [1, 4, 32, 4, 1]} {'loss': 3.0669922828674316, 'Bias_prob_hyp': -4.33225631714107e-05, 'SqErr_prob_hyp': 1.8768444797408708e-09}\n",
      "8 1 4000 2048 [ 1 16 64 16  1]\n"
     ]
    },
    {
     "name": "stderr",
     "output_type": "stream",
     "text": [
      "100%|██████████| 4000/4000 [05:09<00:00, 12.94it/s]\n"
     ]
    },
    {
     "name": "stdout",
     "output_type": "stream",
     "text": [
      "{'max_iter': 4000, 'num_samples': 2048, 'num_segments': 8, 'pow_of_two': 1, 'prob_delta': 0.8, 'dims_dense': [1, 16, 64, 16, 1]} {'loss': 3.04121732711792, 'Bias_prob_hyp': -0.021627306938171387, 'SqErr_prob_hyp': 0.0004677404053978762}\n",
      "8 1 4000 2048 [ 1 16 32 16  1]\n"
     ]
    },
    {
     "name": "stderr",
     "output_type": "stream",
     "text": [
      "100%|██████████| 4000/4000 [04:05<00:00, 16.30it/s]\n"
     ]
    },
    {
     "name": "stdout",
     "output_type": "stream",
     "text": [
      "{'max_iter': 4000, 'num_samples': 2048, 'num_segments': 8, 'pow_of_two': 1, 'prob_delta': 0.8, 'dims_dense': [1, 16, 32, 16, 1]} {'loss': 3.0550239086151123, 'Bias_prob_hyp': 0.004007458686828613, 'SqErr_prob_hyp': 1.6059725126638114e-05}\n",
      "8 1 4000 2048 [ 1  4 32  4  1]\n"
     ]
    },
    {
     "name": "stderr",
     "output_type": "stream",
     "text": [
      "100%|██████████| 4000/4000 [03:32<00:00, 18.81it/s]\n"
     ]
    },
    {
     "name": "stdout",
     "output_type": "stream",
     "text": [
      "{'max_iter': 4000, 'num_samples': 2048, 'num_segments': 8, 'pow_of_two': 1, 'prob_delta': 0.8, 'dims_dense': [1, 4, 32, 4, 1]} {'loss': 3.068754196166992, 'Bias_prob_hyp': -0.0033167600631713867, 'SqErr_prob_hyp': 1.1000897316648661e-05}\n",
      "8 1 4000 5000 [ 1 16 64 16  1]\n"
     ]
    },
    {
     "name": "stderr",
     "output_type": "stream",
     "text": [
      "100%|██████████| 4000/4000 [08:20<00:00,  8.00it/s]\n"
     ]
    },
    {
     "name": "stdout",
     "output_type": "stream",
     "text": [
      "{'max_iter': 4000, 'num_samples': 5000, 'num_segments': 8, 'pow_of_two': 1, 'prob_delta': 0.8, 'dims_dense': [1, 16, 64, 16, 1]} {'loss': 3.0489766597747803, 'Bias_prob_hyp': -0.003993322563171364, 'SqErr_prob_hyp': 1.5946625093533514e-05}\n",
      "8 1 4000 5000 [ 1 16 32 16  1]\n"
     ]
    },
    {
     "name": "stderr",
     "output_type": "stream",
     "text": [
      "100%|██████████| 4000/4000 [07:49<00:00,  8.53it/s]\n"
     ]
    },
    {
     "name": "stdout",
     "output_type": "stream",
     "text": [
      "{'max_iter': 4000, 'num_samples': 5000, 'num_segments': 8, 'pow_of_two': 1, 'prob_delta': 0.8, 'dims_dense': [1, 16, 32, 16, 1]} {'loss': 3.045727252960205, 'Bias_prob_hyp': -0.008093322563171412, 'SqErr_prob_hyp': 6.550187011153948e-05}\n",
      "8 1 4000 5000 [ 1  4 32  4  1]\n"
     ]
    },
    {
     "name": "stderr",
     "output_type": "stream",
     "text": [
      "100%|██████████| 4000/4000 [05:29<00:00, 12.14it/s]\n"
     ]
    },
    {
     "name": "stdout",
     "output_type": "stream",
     "text": [
      "{'max_iter': 4000, 'num_samples': 5000, 'num_segments': 8, 'pow_of_two': 1, 'prob_delta': 0.8, 'dims_dense': [1, 4, 32, 4, 1]} {'loss': 3.038321018218994, 'Bias_prob_hyp': 0.005706677436828622, 'SqErr_prob_hyp': 3.256616736800889e-05}\n",
      "8 1 4000 10000 [ 1 16 64 16  1]\n"
     ]
    },
    {
     "name": "stderr",
     "output_type": "stream",
     "text": [
      "100%|██████████| 4000/4000 [13:39<00:00,  4.88it/s]\n"
     ]
    },
    {
     "name": "stdout",
     "output_type": "stream",
     "text": [
      "{'max_iter': 4000, 'num_samples': 10000, 'num_segments': 8, 'pow_of_two': 1, 'prob_delta': 0.8, 'dims_dense': [1, 16, 64, 16, 1]} {'loss': 3.05100154876709, 'Bias_prob_hyp': -0.002493322563171363, 'SqErr_prob_hyp': 6.216657404019415e-06}\n",
      "8 1 4000 10000 [ 1 16 32 16  1]\n"
     ]
    },
    {
     "name": "stderr",
     "output_type": "stream",
     "text": [
      "100%|██████████| 4000/4000 [09:47<00:00,  6.80it/s]\n"
     ]
    },
    {
     "name": "stdout",
     "output_type": "stream",
     "text": [
      "{'max_iter': 4000, 'num_samples': 10000, 'num_segments': 8, 'pow_of_two': 1, 'prob_delta': 0.8, 'dims_dense': [1, 16, 32, 16, 1]} {'loss': 3.067209482192993, 'Bias_prob_hyp': -0.007893322563171379, 'SqErr_prob_hyp': 6.230454108627039e-05}\n",
      "8 1 4000 10000 [ 1  4 32  4  1]\n"
     ]
    },
    {
     "name": "stderr",
     "output_type": "stream",
     "text": [
      "100%|██████████| 4000/4000 [08:04<00:00,  8.26it/s]"
     ]
    },
    {
     "name": "stdout",
     "output_type": "stream",
     "text": [
      "{'max_iter': 4000, 'num_samples': 10000, 'num_segments': 8, 'pow_of_two': 1, 'prob_delta': 0.8, 'dims_dense': [1, 4, 32, 4, 1]} {'loss': 3.076395273208618, 'Bias_prob_hyp': 0.002856677436828603, 'SqErr_prob_hyp': 8.160605978085637e-06}\n"
     ]
    },
    {
     "name": "stderr",
     "output_type": "stream",
     "text": [
      "\n"
     ]
    }
   ],
   "source": [
    "for num_segments, pow_of_two, max_iter, num_samples, dims_dense  in ar:\n",
    "    print(num_segments, pow_of_two, max_iter, num_samples, dims_dense)\n",
    "    one_experiment(prob_delta = 0.8, num_segments = int(num_segments), pow_of_two = int(pow_of_two), max_iter = int(max_iter), num_samples = int(num_samples), dims_dense = dims_dense.tolist())"
   ]
  },
  {
   "cell_type": "code",
   "execution_count": null,
   "metadata": {},
   "outputs": [],
   "source": []
  },
  {
   "cell_type": "code",
   "execution_count": null,
   "metadata": {},
   "outputs": [],
   "source": []
  },
  {
   "cell_type": "code",
   "execution_count": null,
   "metadata": {},
   "outputs": [],
   "source": []
  }
 ],
 "metadata": {
  "kernelspec": {
   "display_name": "Python 3.9.2 64-bit",
   "language": "python",
   "name": "python3"
  },
  "language_info": {
   "codemirror_mode": {
    "name": "ipython",
    "version": 3
   },
   "file_extension": ".py",
   "mimetype": "text/x-python",
   "name": "python",
   "nbconvert_exporter": "python",
   "pygments_lexer": "ipython3",
   "version": "3.9.2"
  },
  "orig_nbformat": 4,
  "vscode": {
   "interpreter": {
    "hash": "6819c49ba5a09ca392b5492c0f94828bf52946dc6ae61b12b9bc870288a3edfe"
   }
  }
 },
 "nbformat": 4,
 "nbformat_minor": 2
}
